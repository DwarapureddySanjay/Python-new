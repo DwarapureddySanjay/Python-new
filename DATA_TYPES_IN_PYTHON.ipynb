{
  "cells": [
    {
      "cell_type": "markdown",
      "metadata": {
        "id": "view-in-github",
        "colab_type": "text"
      },
      "source": [
        "<a href=\"https://colab.research.google.com/github/DwarapureddySanjay/Python-new/blob/module1/DATA_TYPES_IN_PYTHON.ipynb\" target=\"_parent\"><img src=\"https://colab.research.google.com/assets/colab-badge.svg\" alt=\"Open In Colab\"/></a>"
      ]
    },
    {
      "cell_type": "markdown",
      "id": "a7df7a33",
      "metadata": {
        "id": "a7df7a33"
      },
      "source": [
        "# CONVERTING INT TO STRING, FLOAT, BOOLEAN, COMPLEX"
      ]
    },
    {
      "cell_type": "code",
      "source": [
        "import math\n",
        "print(math.ceil(2.5))\n",
        "print(math.floor(2.5))\n",
        "print(math.fabs(-65897))\n",
        "print(math.fmod(5,7))\n",
        "print(math.trunc(-5.22))\n",
        "print(math.pow(10,10))\n",
        "print(math.sqrt(16))\n"
      ],
      "metadata": {
        "id": "saGvl-ObkCIe",
        "outputId": "f3a45e62-b40f-4794-fbdb-ab1a1e39c9f3",
        "colab": {
          "base_uri": "https://localhost:8080/"
        }
      },
      "id": "saGvl-ObkCIe",
      "execution_count": null,
      "outputs": [
        {
          "output_type": "stream",
          "name": "stdout",
          "text": [
            "3\n",
            "2\n",
            "65897.0\n",
            "5.0\n",
            "-5\n",
            "10000000000.0\n",
            "4.0\n"
          ]
        }
      ]
    },
    {
      "cell_type": "code",
      "execution_count": null,
      "id": "7f0bcfbe",
      "metadata": {
        "id": "7f0bcfbe",
        "outputId": "72eef727-c64f-4b1e-a59c-190b4079c1d9"
      },
      "outputs": [
        {
          "name": "stdout",
          "output_type": "stream",
          "text": [
            "10\n",
            "<class 'int'>\n",
            "10\n",
            "<class 'str'>\n",
            "10.0\n",
            "<class 'float'>\n",
            "True\n",
            "<class 'bool'>\n",
            "(10+0j)\n",
            "<class 'complex'>\n"
          ]
        }
      ],
      "source": [
        "a=10\n",
        "print(a)\n",
        "# before convertion\n",
        "print(type(a))\n",
        "b=str(a)\n",
        "print(b)\n",
        "# after convertion\n",
        "print(type(b))\n",
        "c=float(a)\n",
        "print(c)\n",
        "# after convertion\n",
        "print(type(c))\n",
        "d=bool(a)\n",
        "print(d)\n",
        "# after convertion\n",
        "print(type(d))\n",
        "e=complex(a)\n",
        "print(e)\n",
        "# after convertion\n",
        "print(type(e))"
      ]
    },
    {
      "cell_type": "markdown",
      "id": "43fe1fc4",
      "metadata": {
        "id": "43fe1fc4"
      },
      "source": [
        "# converting string to int, float, boolean, complex\n"
      ]
    },
    {
      "cell_type": "code",
      "execution_count": null,
      "id": "7af5039a",
      "metadata": {
        "colab": {
          "base_uri": "https://localhost:8080/"
        },
        "id": "7af5039a",
        "outputId": "6621af97-bb29-46af-c8af-22bde1855b22"
      },
      "outputs": [
        {
          "output_type": "stream",
          "name": "stdout",
          "text": [
            "4\n",
            "<class 'int'>\n",
            "4.0\n",
            "<class 'float'>\n",
            "True\n",
            "<class 'bool'>\n",
            "(4+0j)\n",
            "<class 'complex'>\n"
          ]
        }
      ],
      "source": [
        "a=4\n",
        "print(a)\n",
        "# before conversion\n",
        "b=int(a)\n",
        "# after conversion\n",
        "print(type(b))\n",
        "c=float(a)\n",
        "print(c)\n",
        "print(type(c))\n",
        "d=bool(a)\n",
        "print(d)\n",
        "print(type(d))\n",
        "e=complex(a)\n",
        "print(e)\n",
        "print(type(e))\n",
        "# NOTE : Can't convert alphabets into integers.\n",
        "# instead of alphabets give digits."
      ]
    },
    {
      "cell_type": "markdown",
      "id": "53ccf41a",
      "metadata": {
        "id": "53ccf41a"
      },
      "source": [
        "# converting float to int, string, boolen, complex"
      ]
    },
    {
      "cell_type": "code",
      "execution_count": null,
      "id": "85628953",
      "metadata": {
        "id": "85628953",
        "outputId": "69ce3cbe-85a4-4bd8-b877-3b2bd1a3ba92"
      },
      "outputs": [
        {
          "name": "stdout",
          "output_type": "stream",
          "text": [
            "4.0\n",
            "<class 'int'>\n",
            "4.0\n",
            "<class 'str'>\n",
            "True\n",
            "<class 'bool'>\n",
            "(4+0j)\n",
            "<class 'complex'>\n"
          ]
        }
      ],
      "source": [
        "a=4.0\n",
        "print(a)\n",
        "# before conversion\n",
        "b=int(a)\n",
        "# after conversion\n",
        "print(type(b))\n",
        "c=str(a)\n",
        "print(c)\n",
        "print(type(c))\n",
        "d=bool(a)\n",
        "print(d)\n",
        "print(type(d))\n",
        "e=complex(a)\n",
        "print(e)\n",
        "print(type(e))"
      ]
    },
    {
      "cell_type": "markdown",
      "id": "84576d9e",
      "metadata": {
        "id": "84576d9e"
      },
      "source": [
        "# CONVERTING BOOLEN TO INT, STRING, FLOAT, COMPLEX"
      ]
    },
    {
      "cell_type": "code",
      "execution_count": null,
      "id": "84523f56",
      "metadata": {
        "id": "84523f56",
        "outputId": "7f6e9cc8-6b9f-4dae-90f0-be6d8e5774d4"
      },
      "outputs": [
        {
          "name": "stdout",
          "output_type": "stream",
          "text": [
            "True\n",
            "<class 'int'>\n",
            "True\n",
            "<class 'str'>\n",
            "1.0\n",
            "<class 'float'>\n",
            "(1+0j)\n",
            "<class 'complex'>\n"
          ]
        }
      ],
      "source": [
        "a=True\n",
        "print(a)\n",
        "# before conversion\n",
        "b=int(a)\n",
        "# after conversion\n",
        "print(type(b))\n",
        "c=str(a)\n",
        "print(c)\n",
        "print(type(c))\n",
        "d=float(a)\n",
        "print(d)\n",
        "print(type(d))\n",
        "e=complex(a)\n",
        "print(e)\n",
        "print(type(e))"
      ]
    },
    {
      "cell_type": "markdown",
      "id": "2df481ee",
      "metadata": {
        "id": "2df481ee"
      },
      "source": [
        "# CONVERTING COMPLEX TO INT, FLOAT, STRING, BOOLEAN"
      ]
    },
    {
      "cell_type": "code",
      "execution_count": null,
      "id": "3ab2c7bb",
      "metadata": {
        "id": "3ab2c7bb",
        "outputId": "9a3e8b4e-5c9f-4097-bb92-f734ec42d8c1"
      },
      "outputs": [
        {
          "name": "stdout",
          "output_type": "stream",
          "text": [
            "(5+0j)\n",
            "(5+0j)\n",
            "<class 'str'>\n",
            "True\n",
            "<class 'bool'>\n"
          ]
        }
      ],
      "source": [
        "a=5+0j\n",
        "print(a)\n",
        "# b=int(a)\n",
        "# print(b)\n",
        "# print(type(b))\n",
        "# can't convert complex to integer.\n",
        "# c=float(a)\n",
        "# print(c)\n",
        "# print(type(c))\n",
        "# can't convert complex to float.\n",
        "d=str(a)\n",
        "print(d)\n",
        "print(type(d))\n",
        "e=bool(a)\n",
        "print(e)\n",
        "print(type(e))\n",
        "# NOTE : Can't convert complex to integer, float."
      ]
    },
    {
      "cell_type": "code",
      "execution_count": null,
      "id": "08c44723",
      "metadata": {
        "id": "08c44723"
      },
      "outputs": [],
      "source": [
        "Find out the person is eligin=ble for voting or not\n"
      ]
    }
  ],
  "metadata": {
    "kernelspec": {
      "display_name": "Python 3 (ipykernel)",
      "language": "python",
      "name": "python3"
    },
    "language_info": {
      "codemirror_mode": {
        "name": "ipython",
        "version": 3
      },
      "file_extension": ".py",
      "mimetype": "text/x-python",
      "name": "python",
      "nbconvert_exporter": "python",
      "pygments_lexer": "ipython3",
      "version": "3.9.7"
    },
    "colab": {
      "name": "DATA TYPES IN PYTHON.ipynb",
      "provenance": [],
      "include_colab_link": true
    }
  },
  "nbformat": 4,
  "nbformat_minor": 5
}