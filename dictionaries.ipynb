{
  "nbformat": 4,
  "nbformat_minor": 0,
  "metadata": {
    "colab": {
      "name": "dictionaries.ipynb",
      "provenance": [],
      "authorship_tag": "ABX9TyNXhRw4ONJiDFjqggIqwcWp",
      "include_colab_link": true
    },
    "kernelspec": {
      "name": "python3",
      "display_name": "Python 3"
    },
    "language_info": {
      "name": "python"
    }
  },
  "cells": [
    {
      "cell_type": "markdown",
      "metadata": {
        "id": "view-in-github",
        "colab_type": "text"
      },
      "source": [
        "<a href=\"https://colab.research.google.com/github/DwarapureddySanjay/Python-new/blob/module2/dictionaries.ipynb\" target=\"_parent\"><img src=\"https://colab.research.google.com/assets/colab-badge.svg\" alt=\"Open In Colab\"/></a>"
      ]
    },
    {
      "cell_type": "code",
      "execution_count": null,
      "metadata": {
        "colab": {
          "base_uri": "https://localhost:8080/"
        },
        "id": "wLqdB9Mmdsbx",
        "outputId": "14e15087-b041-4aad-9694-7136e0d8a066"
      },
      "outputs": [
        {
          "output_type": "stream",
          "name": "stdout",
          "text": [
            "{'Name': 'rakesh', 'Age': 21, 'CGPA': 9, 'Phone number': 9923761981}\n",
            "rakesh\n",
            "21\n",
            "9.4\n",
            "56556545433\n",
            "{'name': 'rakesh', 'Age': 21, 'CGPA': 9.4, 'Phone_number': 56556545433}\n",
            "{'name': 'rakesh', 'Age': 21, 'Phone_number': 56556545433}\n"
          ]
        }
      ],
      "source": [
        "Placement={'Name':'rakesh', 'Age':21, 'CGPA':9, 'Phone number':9923761981}\n",
        "print(Placement)\n",
        "Placement={\n",
        "    'name':str(input()),\n",
        "    'Age':int(input()),\n",
        "    'CGPA':float(input()),\n",
        "    'Phone_number':int(input())\n",
        "}\n",
        "print(Placement)\n",
        "Placement.pop('CGPA')\n",
        "print(Placement)"
      ]
    },
    {
      "cell_type": "code",
      "source": [
        "Placement={'Name':'rakesh', 'Age':21, 'CGPA':9, 'Phone number':9923761981}\n",
        "print(Placement)\n",
        "Placement.popitem()\n",
        "print(Placement)"
      ],
      "metadata": {
        "colab": {
          "base_uri": "https://localhost:8080/"
        },
        "id": "c8vMNEpfGVH2",
        "outputId": "d216c1ac-5706-4cb8-c6d7-dbfe4969d0e2"
      },
      "execution_count": null,
      "outputs": [
        {
          "output_type": "stream",
          "name": "stdout",
          "text": [
            "{'Name': 'rakesh', 'Age': 21, 'CGPA': 9, 'Phone number': 9923761981}\n",
            "{'Name': 'rakesh', 'Age': 21, 'CGPA': 9}\n"
          ]
        }
      ]
    }
  ]
}