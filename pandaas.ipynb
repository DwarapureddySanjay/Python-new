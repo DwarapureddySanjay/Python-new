{
  "nbformat": 4,
  "nbformat_minor": 0,
  "metadata": {
    "colab": {
      "name": "pandaas.ipynb",
      "provenance": [],
      "collapsed_sections": [],
      "authorship_tag": "ABX9TyOAZYtkxC/v45h+gbJt6b23",
      "include_colab_link": true
    },
    "kernelspec": {
      "name": "python3",
      "display_name": "Python 3"
    },
    "language_info": {
      "name": "python"
    }
  },
  "cells": [
    {
      "cell_type": "markdown",
      "metadata": {
        "id": "view-in-github",
        "colab_type": "text"
      },
      "source": [
        "<a href=\"https://colab.research.google.com/github/DwarapureddySanjay/Python-new/blob/module3/pandaas.ipynb\" target=\"_parent\"><img src=\"https://colab.research.google.com/assets/colab-badge.svg\" alt=\"Open In Colab\"/></a>"
      ]
    },
    {
      "cell_type": "code",
      "execution_count": null,
      "metadata": {
        "id": "BEzalJhb9PQo",
        "colab": {
          "base_uri": "https://localhost:8080/"
        },
        "outputId": "b5fa1f03-8163-4647-e5f8-e48952546600"
      },
      "outputs": [
        {
          "output_type": "stream",
          "name": "stdout",
          "text": [
            "      names  marks\n",
            "0       ram     18\n",
            "1     surya      9\n",
            "2  lakshman     17\n"
          ]
        }
      ],
      "source": [
        "import pandas as m\n",
        "h={\n",
        "    \"names\":[\"ram\",\"surya\",\"lakshman\"],\n",
        "    \"marks\": [18, 9, 17]\n",
        "}\n",
        "y=m.DataFrame(h)\n",
        "print(y)"
      ]
    },
    {
      "cell_type": "code",
      "source": [
        "import pandas as n\n",
        "g=[\"sugar\", \"kajju\", \"salt\"]\n",
        "f=n.Series(g,index=[\"day1\",\"day2\",\"day3\"])\n",
        "print(f)"
      ],
      "metadata": {
        "colab": {
          "base_uri": "https://localhost:8080/"
        },
        "id": "0E4BzIIg5Z1i",
        "outputId": "579dc2e3-8d7b-4e61-9a67-f2364ae16291"
      },
      "execution_count": null,
      "outputs": [
        {
          "output_type": "stream",
          "name": "stdout",
          "text": [
            "day1    sugar\n",
            "day2    kajju\n",
            "day3     salt\n",
            "dtype: object\n"
          ]
        }
      ]
    },
    {
      "cell_type": "code",
      "source": [
        "import pandas as n\n",
        "g=[\"h\",\"y\", \"u\"]\n",
        "f=n.Series(g,index=[\"day1\",\"day2\",\"day3\"])\n",
        "print(f)\n",
        "print(\"day2\")"
      ],
      "metadata": {
        "colab": {
          "base_uri": "https://localhost:8080/"
        },
        "id": "GQS4mRpm8JC9",
        "outputId": "24ca6e25-5f8b-4750-86c6-0802d1268eb9"
      },
      "execution_count": null,
      "outputs": [
        {
          "output_type": "stream",
          "name": "stdout",
          "text": [
            "day1    h\n",
            "day2    y\n",
            "day3    u\n",
            "dtype: object\n",
            "day2\n"
          ]
        }
      ]
    },
    {
      "cell_type": "code",
      "source": [
        "import pandas as b\n",
        "f={\"fun\":56 ,\"umn\":67}\n",
        "j=b.Series(f,)\n",
        "print(j)"
      ],
      "metadata": {
        "colab": {
          "base_uri": "https://localhost:8080/"
        },
        "id": "8TrfsTcS-IFy",
        "outputId": "88578cc9-5670-4648-ab46-d95e616cfe1d"
      },
      "execution_count": null,
      "outputs": [
        {
          "output_type": "stream",
          "name": "stdout",
          "text": [
            "fun    56\n",
            "umn    67\n",
            "dtype: int64\n"
          ]
        }
      ]
    },
    {
      "cell_type": "code",
      "source": [
        "import pandas as n\n",
        "f={\n",
        "    \"gum\":[\"1kg\",3,4],\n",
        "    \"red\":[4,6,7]\n",
        "}\n",
        "u=n.DataFrame(f,index=[\"day1\",\"day2\",\"day3\"])\n",
        "print(u)"
      ],
      "metadata": {
        "colab": {
          "base_uri": "https://localhost:8080/"
        },
        "id": "ROyluntPAkvj",
        "outputId": "0f1e8b16-613e-4f55-9163-55f6d57f9afd"
      },
      "execution_count": null,
      "outputs": [
        {
          "output_type": "stream",
          "name": "stdout",
          "text": [
            "      gum  red\n",
            "day1  1kg    4\n",
            "day2    3    6\n",
            "day3    4    7\n"
          ]
        }
      ]
    },
    {
      "cell_type": "code",
      "source": [
        "import pandas as n\n",
        "f={\n",
        "    \"gum\":[\"1kg\",3,4],\n",
        "    \"red\":[4,6,7]\n",
        "}\n",
        "u=n.DataFrame(f,index=[\"day1\",\"day2\",\"day3\"])\n",
        "print(u.loc[\"day3\"])"
      ],
      "metadata": {
        "colab": {
          "base_uri": "https://localhost:8080/"
        },
        "id": "vyp1yCIYBV-c",
        "outputId": "555e782a-4bc7-40fb-88e5-1b05b9307b90"
      },
      "execution_count": null,
      "outputs": [
        {
          "output_type": "stream",
          "name": "stdout",
          "text": [
            "gum    4\n",
            "red    7\n",
            "Name: day3, dtype: object\n"
          ]
        }
      ]
    },
    {
      "cell_type": "code",
      "source": [
        ""
      ],
      "metadata": {
        "id": "mtAKZcIvB9rn"
      },
      "execution_count": null,
      "outputs": []
    }
  ]
}